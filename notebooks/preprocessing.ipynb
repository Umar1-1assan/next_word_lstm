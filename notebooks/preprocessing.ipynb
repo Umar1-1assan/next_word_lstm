{
 "cells": [
  {
   "cell_type": "code",
   "execution_count": 12,
   "id": "53440dc3",
   "metadata": {},
   "outputs": [],
   "source": [
    "# Imports and setup\n",
    "import re\n",
    "import pandas as pd\n",
    "import numpy as np\n",
    "import pickle\n",
    "from tensorflow.keras.preprocessing.text import Tokenizer\n",
    "from tensorflow.keras.preprocessing.sequence import pad_sequences\n"
   ]
  },
  {
   "cell_type": "code",
   "execution_count": 13,
   "id": "915b70a3",
   "metadata": {},
   "outputs": [
    {
     "name": "stdout",
     "output_type": "stream",
     "text": [
      "Loaded 111396 rows from CSV\n"
     ]
    }
   ],
   "source": [
    "# Load raw CSV data\n",
    "csv_path = '../data/raw/Shakespeare_data.csv'\n",
    "df = pd.read_csv(csv_path)\n",
    "print(f\"Loaded {len(df)} rows from CSV\")\n"
   ]
  },
  {
   "cell_type": "code",
   "execution_count": 14,
   "id": "1ff62111",
   "metadata": {},
   "outputs": [
    {
     "name": "stderr",
     "output_type": "stream",
     "text": [
      "C:\\Users\\umer hassan\\AppData\\Local\\Temp\\ipykernel_4852\\3904990723.py:4: UserWarning: This pattern is interpreted as a regular expression, and has match groups. To actually get the groups, use str.extract.\n",
      "  mask = df['Player'].str.contains(r'^(ACT|SCENE)', regex=True)\n"
     ]
    },
    {
     "name": "stdout",
     "output_type": "stream",
     "text": [
      "Combined dialogue length: 4366287 characters\n"
     ]
    }
   ],
   "source": [
    "# Remove rows with NaN in 'PlayerLine' or 'Player'\n",
    "df = df[df['PlayerLine'].notna()]\n",
    "df['Player'] = df['Player'].fillna('')  # avoid NaN\n",
    "mask = df['Player'].str.contains(r'^(ACT|SCENE)', regex=True)\n",
    "df = df[~mask]\n",
    "\n",
    "# Combine all dialogue into one text blob\n",
    "text = ' '.join(df['PlayerLine'].astype(str).tolist())\n",
    "print(f\"Combined dialogue length: {len(text)} characters\")"
   ]
  },
  {
   "cell_type": "code",
   "execution_count": 15,
   "id": "0c03f21b",
   "metadata": {},
   "outputs": [
    {
     "name": "stdout",
     "output_type": "stream",
     "text": [
      "Cleaned length: 4323891 characters\n"
     ]
    }
   ],
   "source": [
    "# Cleaning function\n",
    "def clean_text(txt):\n",
    "    # Remove stage directions in brackets\n",
    "    txt = re.sub(r\"\\[.*?\\]\", \"\", txt)\n",
    "    txt = re.sub(r\"\\(.*?\\)\", \"\", txt)\n",
    "    # Remove unwanted characters\n",
    "    txt = re.sub(r\"[^a-zA-Z0-9\\s\\.\\,\\;\\'\\-]\", \"\", txt)\n",
    "    # Lowercase and collapse whitespace\n",
    "    txt = txt.lower()\n",
    "    txt = re.sub(r\"\\s+\", \" \", txt).strip()\n",
    "    return txt\n",
    "\n",
    "cleaned = clean_text(text)\n",
    "print(f\"Cleaned length: {len(cleaned)} characters\")\n"
   ]
  },
  {
   "cell_type": "code",
   "execution_count": 16,
   "id": "6e28ea2b",
   "metadata": {},
   "outputs": [],
   "source": [
    "#Save cleaned text\n",
    "with open('../data/processed/cleaned_shakespeare.txt', 'w', encoding='utf-8') as f:\n",
    "    f.write(cleaned)"
   ]
  },
  {
   "cell_type": "code",
   "execution_count": 20,
   "id": "c05512cf",
   "metadata": {},
   "outputs": [
    {
     "name": "stdout",
     "output_type": "stream",
     "text": [
      "Vocabulary size: 25759, Total tokens: 819639\n"
     ]
    }
   ],
   "source": [
    "# Tokenization\n",
    "# Build tokenizer on the entire cleaned text\n",
    "tokenizer = Tokenizer()\n",
    "tokenizer.fit_on_texts([cleaned])\n",
    "# Convert cleaned text to sequence of word indices\n",
    "token_list = tokenizer.texts_to_sequences([cleaned])[0]\n",
    "vocab_size = len(tokenizer.word_index) + 1\n",
    "print(f\"Vocabulary size: {vocab_size}, Total tokens: {len(token_list)}\")"
   ]
  },
  {
   "cell_type": "code",
   "execution_count": null,
   "id": "125992ed",
   "metadata": {},
   "outputs": [
    {
     "name": "stdout",
     "output_type": "stream",
     "text": [
      "Generated 819619 sequences of length 20\n"
     ]
    }
   ],
   "source": [
    "# Generate sequences\n",
    "# Choose a fixed sequence length n (e.g., 20)\n",
    "n = 20\n",
    "sequences = []\n",
    "for i in range(n, len(token_list)):\n",
    "    seq = token_list[i-n:i+1]  # n inputs + 1 label\n",
    "    sequences.append(seq)\n",
    "\n",
    "# Pad/truncate to ensure uniform length\n",
    "max_len = n + 1\n",
    "sequences = pad_sequences(sequences, maxlen=max_len, padding='pre')\n",
    "\n",
    "# features and labels\n",
    "data_X = sequences[:, :-1]\n",
    "data_y = sequences[:, -1]\n"
   ]
  },
  {
   "cell_type": "code",
   "execution_count": 22,
   "id": "3e6ec3ac",
   "metadata": {},
   "outputs": [
    {
     "name": "stdout",
     "output_type": "stream",
     "text": [
      "Preprocessing complete: data_X, data_y, and tokenizer saved.\n"
     ]
    }
   ],
   "source": [
    "# Save tokenizer and sequences\n",
    "with open('../data/processed/tokenizer.pkl', 'wb') as f:\n",
    "    pickle.dump(tokenizer, f)\n",
    "np.save('../data/processed/data_X.npy', data_X)\n",
    "np.save('../data/processed/data_y.npy', data_y)\n",
    "print('Preprocessing complete: data_X, data_y, and tokenizer saved.')"
   ]
  },
  {
   "cell_type": "code",
   "execution_count": null,
   "id": "650dcfc4",
   "metadata": {},
   "outputs": [],
   "source": []
  }
 ],
 "metadata": {
  "kernelspec": {
   "display_name": "Python 3",
   "language": "python",
   "name": "python3"
  },
  "language_info": {
   "codemirror_mode": {
    "name": "ipython",
    "version": 3
   },
   "file_extension": ".py",
   "mimetype": "text/x-python",
   "name": "python",
   "nbconvert_exporter": "python",
   "pygments_lexer": "ipython3",
   "version": "3.10.18"
  }
 },
 "nbformat": 4,
 "nbformat_minor": 5
}
